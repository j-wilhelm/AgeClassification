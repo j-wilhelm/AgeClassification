{
  "nbformat": 4,
  "nbformat_minor": 0,
  "metadata": {
    "colab": {
      "name": "Age_Classification_Models.ipynb",
      "version": "0.3.2",
      "provenance": [],
      "collapsed_sections": []
    },
    "kernelspec": {
      "name": "python3",
      "display_name": "Python 3"
    },
    "accelerator": "GPU"
  },
  "cells": [
    {
      "cell_type": "markdown",
      "metadata": {
        "id": "m6dOsN_rZKPM",
        "colab_type": "text"
      },
      "source": [
        "# 0. Set-up\n",
        "Mount drive, load packages, load data"
      ]
    },
    {
      "cell_type": "code",
      "metadata": {
        "id": "c98O2EG_oAQe",
        "colab_type": "code",
        "colab": {}
      },
      "source": [
        "from google.colab import drive\n",
        "drive.mount('/content/gdrive',force_remount = True)"
      ],
      "execution_count": 0,
      "outputs": []
    },
    {
      "cell_type": "code",
      "metadata": {
        "id": "_VBMR7_YoHKl",
        "colab_type": "code",
        "colab": {}
      },
      "source": [
        "from keras import *\n",
        "import pandas as pd\n",
        "import numpy as np\n",
        "import matplotlib.pyplot as plt\n",
        "import os\n",
        "import pickle\n",
        "import random\n",
        "from keras.layers import ZeroPadding2D, Convolution2D,Activation\n",
        "from keras.preprocessing.image import load_img,img_to_array,ImageDataGenerator\n",
        "from keras.applications.vgg16 import preprocess_input\n",
        "from keras.utils import np_utils, plot_model\n",
        "import pickle\n",
        "from random import shuffle\n",
        "from tqdm import tqdm\n",
        "from keras.applications.vgg16 import VGG16\n",
        "from keras import Sequential\n",
        "from keras.layers import Dense, MaxPooling2D, Conv2D, Flatten, Dropout, Input\n",
        "from keras import *\n",
        "from keras.optimizers import *\n",
        "from keras import metrics\n",
        "from keras.callbacks import *\n",
        "from sklearn.metrics import accuracy_score, confusion_matrix\n",
        "import h5py # to save best models"
      ],
      "execution_count": 0,
      "outputs": []
    },
    {
      "cell_type": "code",
      "metadata": {
        "id": "cD7KzjbNoO6o",
        "colab_type": "code",
        "colab": {}
      },
      "source": [
        "# Get own metric (FPR)\n",
        "import keras.backend as K\n",
        "def FPR(y_true,y_pred):\n",
        "  \"\"\"\n",
        "  param:\n",
        "  y_pred - Predicted labels\n",
        "  y_true - True labels \n",
        "  Returns:\n",
        "  False Positive Rate\n",
        "  \"\"\"\n",
        "  neg_y_true = 1 - y_true\n",
        "  neg_y_pred = 1 - y_pred\n",
        "  fp = K.sum(neg_y_true * y_pred)\n",
        "  tn = K.sum(neg_y_true * neg_y_pred)\n",
        "  fpr = fp / (tn + fp + K.epsilon())\n",
        "  \n",
        "  return(fpr)"
      ],
      "execution_count": 0,
      "outputs": []
    },
    {
      "cell_type": "code",
      "metadata": {
        "id": "HujscDVaoR3_",
        "colab_type": "code",
        "colab": {}
      },
      "source": [
        "def make_model_own(input_shape):\n",
        "  '''Builds a shallow CNN with input_shape = input_shape'''\n",
        "  own_model = Sequential()\n",
        "  own_model.add(Conv2D(32, (3, 3), activation='relu',\n",
        "                   input_shape=input_shape))\n",
        "  own_model.add(MaxPooling2D(pool_size=(2, 2)))\n",
        "  own_model.add(Conv2D(32, (3,3), activation = 'relu'))\n",
        "  own_model.add(MaxPooling2D(pool_size = (2,2)))\n",
        "  own_model.add(Conv2D(64, (3,3), activation='relu'))\n",
        "  own_model.add(MaxPooling2D(pool_size=(2, 2)))\n",
        "  own_model.add(Conv2D(64, (3,3), activation = 'relu'))\n",
        "  own_model.add(MaxPooling2D(pool_size=(2, 2)))\n",
        "  own_model.add(Flatten())\n",
        "  own_model.add(Dense(128, activation='relu'))\n",
        "  own_model.add(Dense(128, activation = 'relu'))\n",
        "  own_model.add(Dropout(0.5))\n",
        "  own_model.add(Dense(2, activation='sigmoid')) \n",
        "  return(own_model)\n",
        "\n",
        "\n",
        "\n",
        "def compile_and_run(Model, X, y, val_X, val_y, save_path, batch_size = 32, loss = 'binary_crossentropy', \n",
        "                   optimizer = optimizers.Adam(lr = 0.001, amsgrad = True), epochs = 50):\n",
        "  '''Runs the shallow CNN. Parameters:\n",
        "  Model: an uncompiled model to run\n",
        "  X: the train data\n",
        "  y: The train labels\n",
        "  val_X: the validation data\n",
        "  val_y: the validation labels\n",
        "  save_path: a path to where the best model weights are saved\n",
        "  batch_size: the batch size for training/validation (default: 32)\n",
        "  loss: the loss function to use (default: binary_crossentropy)\n",
        "  optimizer: the optimizer to use (default: Adam(lr = 0.001, amsgrad = True))\n",
        "  epochs: the number of epochs to run for (default: 50)'''\n",
        "  \n",
        "  # Define a data generator\n",
        "  train_gen = ImageDataGenerator(rotation_range = 30,\n",
        "                            width_shift_range = 0.1,\n",
        "                            height_shift_range = 0.1,\n",
        "                            horizontal_flip = True,\n",
        "                            shear_range = 0.02,\n",
        "                            )\n",
        "  \n",
        "  train_gen.fit(X)\n",
        "  train_generator = train_gen.flow(X,y,batch_size = batch_size, shuffle = True)\n",
        "  \n",
        "  # Compile the model\n",
        "  Model.compile(loss= loss,\n",
        "              optimizer = optimizer,\n",
        "              metrics=['accuracy', FPR])\n",
        "  \n",
        "  # Create callbacks; early stopping and saving model weights\n",
        "  cb = Callback()\n",
        "  es = EarlyStopping(monitor = 'val_loss',mode = 'min',verbose = 1, patience = 5, restore_best_weights = True)\n",
        "  mc = ModelCheckpoint(save_path,monitor='val_loss', \n",
        "                       mode='min', save_best_only=True, save_weights_only = True, verbose = 1)\n",
        "  \n",
        "  \n",
        "  # Train the model\n",
        "  history = Model.fit_generator(train_generator, steps_per_epoch = len(X)/batch_size, epochs = epochs, \n",
        "                      callbacks = [es,mc], validation_data = (val_X, val_y))\n",
        "  \n",
        "  return(history, Model)"
      ],
      "execution_count": 0,
      "outputs": []
    },
    {
      "cell_type": "code",
      "metadata": {
        "id": "TBM3OnWFqwS5",
        "colab_type": "code",
        "colab": {}
      },
      "source": [
        "# Load data\n",
        "X = pickle.load(open('gdrive/My Drive/Data/preprocessed/X.txt','rb'))\n",
        "y = pickle.load(open('gdrive/My Drive/Data/preprocessed/y.txt','rb'))\n",
        "Holdout_X = pickle.load(open('gdrive/My Drive/Data/preprocessed/valX.txt','rb'))\n",
        "Holdout_y = pickle.load(open('gdrive/My Drive/Data/preprocessed/valy.txt','rb'))"
      ],
      "execution_count": 0,
      "outputs": []
    },
    {
      "cell_type": "code",
      "metadata": {
        "id": "mNvHI6syiric",
        "colab_type": "code",
        "colab": {}
      },
      "source": [
        "# split the holdout data into a validation and test set\n",
        "val_x = np.concatenate((Holdout_X[:100],Holdout_X[500:600],Holdout_X[1000:1100]))\n",
        "val_y = np.concatenate((Holdout_y[:100],Holdout_y[500:600],Holdout_y[1000:1100]))\n",
        "Holdout_X = np.concatenate((Holdout_X[100:500],Holdout_X[600:1000],Holdout_X[1100:1500]))\n",
        "Holdout_y = np.concatenate((Holdout_y[100:500],Holdout_y[600:1000],Holdout_y[1100:1500]))\n",
        "                           "
      ],
      "execution_count": 0,
      "outputs": []
    },
    {
      "cell_type": "markdown",
      "metadata": {
        "id": "IhWOKEOfaBBk",
        "colab_type": "text"
      },
      "source": [
        "# Training models\n",
        "\n",
        "## Shallow self-built CNN"
      ]
    },
    {
      "cell_type": "code",
      "metadata": {
        "id": "0gFIRXdCsKbj",
        "colab_type": "code",
        "colab": {}
      },
      "source": [
        "own_model = make_model_own((224,224,3))\n",
        "own_model.summary()"
      ],
      "execution_count": 0,
      "outputs": []
    },
    {
      "cell_type": "code",
      "metadata": {
        "id": "uirSDwpNy3l-",
        "colab_type": "code",
        "colab": {}
      },
      "source": [
        "plot_model(own_model,'gdrive/My Drive/Deep Learning/shallow.png')"
      ],
      "execution_count": 0,
      "outputs": []
    },
    {
      "cell_type": "code",
      "metadata": {
        "id": "AVrkhMBUsTRa",
        "colab_type": "code",
        "colab": {}
      },
      "source": [
        "random.seed(0)\n",
        "savepath = 'gdrive/My Drive/Data/Output/model_weights/final_own_basic_v2.hdf5'\n",
        "history, model = compile_and_run(own_model,X,y,val_x,val_y,savepath,epochs = 50)"
      ],
      "execution_count": 0,
      "outputs": []
    },
    {
      "cell_type": "code",
      "metadata": {
        "colab_type": "code",
        "id": "zAeC8gh7Q_R_",
        "colab": {}
      },
      "source": [
        "own_evals = own_model.evaluate(Holdout_X, Holdout_y)\n",
        "own_evals"
      ],
      "execution_count": 0,
      "outputs": []
    },
    {
      "cell_type": "markdown",
      "metadata": {
        "id": "6t7jDyfWs9Me",
        "colab_type": "text"
      },
      "source": [
        "## VGG16 Model\n",
        "Is done slightly differently as it is not a Sequential() type."
      ]
    },
    {
      "cell_type": "code",
      "metadata": {
        "id": "lADbg_-czQSD",
        "colab_type": "code",
        "colab": {}
      },
      "source": [
        "vgg16_base = VGG16(weights = 'imagenet', include_top = False, input_shape = (224,224,3))\n",
        "for layer in vgg16_base.layers:\n",
        "    layer.trainable = False\n",
        "    \n",
        "# Add output layers\n",
        "x = Flatten()(vgg16_base.output)\n",
        "x = Dense(2, activation = 'sigmoid')(x)\n",
        "\n",
        "\n",
        "vgg16_model = Model(inputs = vgg16_base.input,outputs = x)\n",
        "vgg16_model.compile(loss= 'binary_crossentropy',\n",
        "              optimizer = optimizers.Adam(lr = 0.001, amsgrad = True),\n",
        "              metrics=['accuracy', FPR])\n",
        "vgg16_model.summary()"
      ],
      "execution_count": 0,
      "outputs": []
    },
    {
      "cell_type": "code",
      "metadata": {
        "id": "fRr_w9HvzB92",
        "colab_type": "code",
        "colab": {}
      },
      "source": [
        "plot_model(vgg16_model,'gdrive/My Drive/Deep Learning/vgg16.png')"
      ],
      "execution_count": 0,
      "outputs": []
    },
    {
      "cell_type": "code",
      "metadata": {
        "id": "I_hHhmotCPao",
        "colab_type": "code",
        "colab": {}
      },
      "source": [
        "cb_vgg16 = Callback()\n",
        "es_vgg16 = EarlyStopping(monitor = 'val_loss',mode = 'min',verbose = 1, patience = 5,\n",
        "                        restore_best_weights = True)\n",
        "mc_vgg16 = ModelCheckpoint('gdrive/My Drive/Data/best_model_vgg16.hdf5',\n",
        "                           monitor='val_loss', mode='min', save_best_only=True, save_weights_only = True, verbose = 1)\n"
      ],
      "execution_count": 0,
      "outputs": []
    },
    {
      "cell_type": "code",
      "metadata": {
        "id": "mUFFLm_KCYZm",
        "colab_type": "code",
        "colab": {}
      },
      "source": [
        "datagen = ImageDataGenerator(rotation_range = 30,\n",
        "                             width_shift_range = 0.1,\n",
        "                             height_shift_range = 0.1,\n",
        "                             horizontal_flip = True,\n",
        "                             shear_range = 0.01,\n",
        "                            )\n",
        "\n",
        "datagen.fit(X)"
      ],
      "execution_count": 0,
      "outputs": []
    },
    {
      "cell_type": "code",
      "metadata": {
        "id": "T3P5EuyeCnY8",
        "colab_type": "code",
        "colab": {}
      },
      "source": [
        "random.seed(0)\n",
        "history_vgg16_basic = vgg16_model.fit_generator(datagen.flow(X,y,batch_size=32,shuffle = True),\n",
        "                       steps_per_epoch = len(X) / 32,epochs = 50,\n",
        "                       callbacks = [es_vgg16,mc_vgg16], validation_data = [val_x,val_y])"
      ],
      "execution_count": 0,
      "outputs": []
    },
    {
      "cell_type": "code",
      "metadata": {
        "id": "2Ptz7bdlDaVE",
        "colab_type": "code",
        "colab": {}
      },
      "source": [
        "vgg16_evals = vgg16_model.evaluate(Holdout_X, Holdout_y)\n",
        "vgg16_evals"
      ],
      "execution_count": 0,
      "outputs": []
    },
    {
      "cell_type": "markdown",
      "metadata": {
        "id": "aeYAsoE4SQEg",
        "colab_type": "text"
      },
      "source": [
        "## VGG-Face"
      ]
    },
    {
      "cell_type": "code",
      "metadata": {
        "id": "TUEyuF63SbW-",
        "colab_type": "code",
        "colab": {}
      },
      "source": [
        "def VGG_face():\n",
        "  '''\n",
        "  Make the vgg face model and load weights (these need to be downloaded)'''\n",
        "  face_model = Sequential()\n",
        "  face_model.add(ZeroPadding2D((1,1),input_shape=(224,224, 3)))\n",
        "  face_model.add(Convolution2D(64, (3, 3), activation='relu'))\n",
        "  face_model.add(ZeroPadding2D((1,1)))\n",
        "  face_model.add(Convolution2D(64, (3, 3), activation='relu'))\n",
        "  face_model.add(MaxPooling2D((2,2), strides=(2,2)))\n",
        "\n",
        "  face_model.add(ZeroPadding2D((1,1)))\n",
        "  face_model.add(Convolution2D(128, (3, 3), activation='relu'))\n",
        "  face_model.add(ZeroPadding2D((1,1)))\n",
        "  face_model.add(Convolution2D(128, (3, 3), activation='relu'))\n",
        "  face_model.add(MaxPooling2D((2,2), strides=(2,2)))\n",
        "\n",
        "  face_model.add(ZeroPadding2D((1,1)))\n",
        "  face_model.add(Convolution2D(256, (3, 3), activation='relu'))\n",
        "  face_model.add(ZeroPadding2D((1,1)))\n",
        "  face_model.add(Convolution2D(256, (3, 3), activation='relu'))\n",
        "  face_model.add(ZeroPadding2D((1,1)))\n",
        "  face_model.add(Convolution2D(256, (3, 3), activation='relu'))\n",
        "  face_model.add(MaxPooling2D((2,2), strides=(2,2)))\n",
        "\n",
        "  face_model.add(ZeroPadding2D((1,1)))\n",
        "  face_model.add(Convolution2D(512, (3, 3), activation='relu'))\n",
        "  face_model.add(ZeroPadding2D((1,1)))\n",
        "  face_model.add(Convolution2D(512, (3, 3), activation='relu'))\n",
        "  face_model.add(ZeroPadding2D((1,1)))\n",
        "  face_model.add(Convolution2D(512, (3, 3), activation='relu'))\n",
        "  face_model.add(MaxPooling2D((2,2), strides=(2,2)))\n",
        "\n",
        "  face_model.add(ZeroPadding2D((1,1)))\n",
        "  face_model.add(Convolution2D(512, (3, 3), activation='relu'))\n",
        "  face_model.add(ZeroPadding2D((1,1)))\n",
        "  face_model.add(Convolution2D(512, (3, 3), activation='relu'))\n",
        "  face_model.add(ZeroPadding2D((1,1)))\n",
        "  face_model.add(Convolution2D(512, (3, 3), activation='relu'))\n",
        "  face_model.add(MaxPooling2D((2,2), strides=(2,2)))\n",
        "\n",
        "  face_model.add(Convolution2D(4096, (7, 7), activation='relu'))\n",
        "  face_model.add(Dropout(0.5))\n",
        "  face_model.add(Convolution2D(4096, (1, 1), activation='relu'))\n",
        "  face_model.add(Dropout(0.5))\n",
        "  face_model.add(Convolution2D(2622, (1, 1)))\n",
        "  face_model.add(Flatten())\n",
        "  face_model.load_weights('gdrive/My Drive/Data/vgg_face_weights.h5')\n",
        "  return(face_model)"
      ],
      "execution_count": 0,
      "outputs": []
    },
    {
      "cell_type": "code",
      "metadata": {
        "id": "2X-3o12DSc0t",
        "colab_type": "code",
        "colab": {}
      },
      "source": [
        "# Ensure the convolutional layers are frozen\n",
        "\n",
        "vgg_face_model = VGG_face()\n",
        "\n",
        "for layer in vgg_face_model.layers:\n",
        "  layer.trainable = False\n",
        "\n",
        "vgg_face_model.add(Dense(2, activation = 'sigmoid'))\n",
        "\n",
        "vgg_face_model.summary()"
      ],
      "execution_count": 0,
      "outputs": []
    },
    {
      "cell_type": "code",
      "metadata": {
        "id": "jHHVvkrvzJSm",
        "colab_type": "code",
        "colab": {}
      },
      "source": [
        "plot_model(vgg_face_model,'gdrive/My Drive/Deep Learning/vggface.png')"
      ],
      "execution_count": 0,
      "outputs": []
    },
    {
      "cell_type": "code",
      "metadata": {
        "id": "dVRT_ZRKSr2c",
        "colab_type": "code",
        "colab": {}
      },
      "source": [
        "vgg_face_model.compile(loss= 'binary_crossentropy',\n",
        "              optimizer = optimizers.Adam(lr = 0.001, amsgrad = True),\n",
        "              metrics=['accuracy', FPR])"
      ],
      "execution_count": 0,
      "outputs": []
    },
    {
      "cell_type": "code",
      "metadata": {
        "id": "UdgVpLnmS6An",
        "colab_type": "code",
        "colab": {}
      },
      "source": [
        "es_vggface = EarlyStopping(monitor = 'val_loss',mode = 'min',verbose = 1, patience = 5, restore_best_weights = True)\n",
        "mc_vggface = ModelCheckpoint('gdrive/My Drive/Data/best_model_vggface.h5',monitor='val_loss', mode='min',\n",
        "                             save_best_only=True, save_weights_only = True, verbose = 1)\n"
      ],
      "execution_count": 0,
      "outputs": []
    },
    {
      "cell_type": "code",
      "metadata": {
        "id": "BFgyMOYCTtht",
        "colab_type": "code",
        "colab": {}
      },
      "source": [
        "random.seed(0)\n",
        "history_vgg_face_basic = vgg_face_model.fit_generator(datagen.flow(X,y,batch_size=32,shuffle = True),\n",
        "                       steps_per_epoch = len(X) / 32,epochs = 50,\n",
        "                       callbacks = [es_vggface,mc_vggface], validation_data = [val_x,val_y])"
      ],
      "execution_count": 0,
      "outputs": []
    },
    {
      "cell_type": "code",
      "metadata": {
        "id": "0ZZXSQ9CT9uY",
        "colab_type": "code",
        "colab": {}
      },
      "source": [
        "vgg_face_evals = vgg_face_model.evaluate(Holdout_X, Holdout_y)\n",
        "vgg_face_evals"
      ],
      "execution_count": 0,
      "outputs": []
    },
    {
      "cell_type": "markdown",
      "metadata": {
        "id": "dNCkohnEfDe5",
        "colab_type": "text"
      },
      "source": [
        "## VGG16 Unfreezing layers"
      ]
    },
    {
      "cell_type": "code",
      "metadata": {
        "id": "71nwabELfTBk",
        "colab_type": "code",
        "colab": {}
      },
      "source": [
        "vgg16_ft_base = VGG16(weights = 'imagenet', include_top = False, input_shape = (224,224,3))\n",
        "for layer in vgg16_ft_base.layers[:-2]:\n",
        "    layer.trainable = False\n",
        "    \n",
        "# Add output layers\n",
        "x = Flatten()(vgg16_ft_base.output)\n",
        "x = Dense(2, activation = 'sigmoid')(x)\n",
        "\n",
        "\n",
        "vgg16_ft_model = Model(inputs = vgg16_ft_base.input,outputs = x)\n",
        "vgg16_ft_model.compile(loss= 'binary_crossentropy',\n",
        "              optimizer = optimizers.Adam(lr = 0.001, amsgrad = True),\n",
        "              metrics=['accuracy', FPR])\n",
        "vgg16_ft_model.summary()"
      ],
      "execution_count": 0,
      "outputs": []
    },
    {
      "cell_type": "code",
      "metadata": {
        "id": "1wSkB97_gQr8",
        "colab_type": "code",
        "colab": {}
      },
      "source": [
        "es_vgg16_ft = EarlyStopping(monitor = 'val_loss',mode = 'min',verbose = 1, patience = 5, restore_best_weights = True)\n",
        "mc_vgg16_ft = ModelCheckpoint('gdrive/My Drive/Data/best_model_vgg16_ft.h5',monitor='val_loss', mode='min',\n",
        "                             save_best_only=True, save_weights_only = True, verbose = 1)"
      ],
      "execution_count": 0,
      "outputs": []
    },
    {
      "cell_type": "code",
      "metadata": {
        "id": "aGhbOgQGfiKK",
        "colab_type": "code",
        "colab": {}
      },
      "source": [
        "random.seed(0)\n",
        "\n",
        "\n",
        "history_vgg16_ft = vgg16_ft_model.fit_generator(datagen.flow(X,y,batch_size=32,shuffle = True),\n",
        "                       steps_per_epoch = len(X) / 32,epochs = 50,\n",
        "                       callbacks = [es_vgg16_ft,mc_vgg16_ft], validation_data = [val_x,val_y])"
      ],
      "execution_count": 0,
      "outputs": []
    },
    {
      "cell_type": "code",
      "metadata": {
        "id": "L2PvHoxiR8Em",
        "colab_type": "code",
        "colab": {}
      },
      "source": [
        "vgg16_ft_model.load_weights('gdrive/My Drive/Data/best_model_vggface_ft.h5')\n",
        "vgg16_ft_evals = vgg16_ft_model.evaluate(Holdout_X, Holdout_y)\n",
        "vgg16_ft_evals"
      ],
      "execution_count": 0,
      "outputs": []
    },
    {
      "cell_type": "markdown",
      "metadata": {
        "id": "y6k5ShCCgbrS",
        "colab_type": "text"
      },
      "source": [
        "## VGG-Face Finetuning"
      ]
    },
    {
      "cell_type": "code",
      "metadata": {
        "id": "jgWMT0crnoNU",
        "colab_type": "code",
        "colab": {}
      },
      "source": [
        "vgg_face_model = VGG_face()\n",
        "\n",
        "for layer in vgg_face_model.layers[:-2]:\n",
        "  layer.trainable = False\n",
        "\n",
        "vgg_face_model.add(Dense(2, activation = 'sigmoid'))\n",
        "\n",
        "vgg_face_model.summary()"
      ],
      "execution_count": 0,
      "outputs": []
    },
    {
      "cell_type": "code",
      "metadata": {
        "id": "GRaMub5Snxh7",
        "colab_type": "code",
        "colab": {}
      },
      "source": [
        "vgg_face_model.compile(loss= 'binary_crossentropy',\n",
        "              optimizer = optimizers.Adam(lr = 0.001, amsgrad = True),\n",
        "              metrics=['accuracy', FPR])\n",
        "\n",
        "es_vggface = EarlyStopping(monitor = 'val_loss',mode = 'min',verbose = 1, patience = 5, restore_best_weights = True)\n",
        "mc_vggface = ModelCheckpoint('gdrive/My Drive/Data/best_model_vggface_ft.hdf5',monitor='val_loss', mode='min',\n",
        "                             save_best_only=True, save_weights_only = True, verbose = 1)\n",
        "random.seed(0)\n",
        "history_vgg_face_ft = vgg_face_model.fit_generator(datagen.flow(X,y,batch_size=32,shuffle = True),\n",
        "                       steps_per_epoch = len(X) / 32,epochs = 50,\n",
        "                       callbacks = [es_vggface,mc_vggface], validation_data = [val_x,val_y])"
      ],
      "execution_count": 0,
      "outputs": []
    },
    {
      "cell_type": "markdown",
      "metadata": {
        "id": "sm56OF_RToeI",
        "colab_type": "text"
      },
      "source": [
        "# Testing and Evaluating all models\n",
        "\n",
        "I test on: the holdout data, a seperate unseen dataset containing images from different folders (so completely new persons) and a dataset containing only images of people between 15-32 years of age. In the next section, I also try training/testing the best model on the 15-32 years dataset. \n",
        "\n",
        "**Note that accuracies reported by Keras are often incorrect! These were calculated manually for the report.**\n",
        "\n",
        "## Holdout data"
      ]
    },
    {
      "cell_type": "code",
      "metadata": {
        "id": "1AOjqhvHTsQV",
        "colab_type": "code",
        "colab": {}
      },
      "source": [
        "# Load weights for each model and compile them\n",
        "# Own model\n",
        "own_model = make_model_own((224,224,3))\n",
        "own_model.load_weights('gdrive/My Drive/Data/Output/model_weights/final_own_basic_v2.hdf5')\n",
        "own_model.compile(loss= 'binary_crossentropy',\n",
        "              optimizer = optimizers.Adam(lr = 0.001, amsgrad = True),\n",
        "              metrics=['accuracy', FPR])\n",
        "\n",
        "# VGG16 Model\n",
        "vgg16_base = VGG16(include_top = False, input_shape = (224,224,3))\n",
        "    \n",
        " # Add output layers\n",
        "x = Flatten()(vgg16_base.output)\n",
        "x = Dense(2, activation = 'sigmoid')(x)\n",
        "\n",
        "\n",
        "vgg16_model = Model(inputs = vgg16_base.input,outputs = x)\n",
        "vgg16_model.compile(loss= 'binary_crossentropy',\n",
        "              optimizer = optimizers.Adam(lr = 0.001, amsgrad = True),\n",
        "              metrics=['accuracy', FPR])\n",
        "vgg16_model.load_weights('gdrive/My Drive/Data/best_model_vgg16.hdf5')\n",
        "\n",
        "\n",
        "# VGG-Face Model\n",
        "vgg_face_model = VGG_face()\n",
        "vgg_face_model.add(Dense(2, activation = 'sigmoid'))\n",
        "vgg_face_model.compile(loss= 'binary_crossentropy',\n",
        "              optimizer = optimizers.Adam(lr = 0.001, amsgrad = True),\n",
        "              metrics=['accuracy', FPR])\n",
        "vgg_face_model.load_weights('gdrive/My Drive/Data/best_model_vggface.h5')\n",
        "\n",
        "# VGG16 Finetuned\n",
        "vgg16_ft_base = VGG16(include_top = False, input_shape = (224,224,3))\n",
        "    \n",
        " # Add output layers\n",
        "x = Flatten()(vgg16_ft_base.output)\n",
        "x = Dense(2, activation = 'sigmoid')(x)\n",
        "\n",
        "\n",
        "vgg16_ft_model = Model(inputs = vgg16_ft_base.input,outputs = x)\n",
        "vgg16_ft_model.compile(loss= 'binary_crossentropy',\n",
        "              optimizer = optimizers.Adam(lr = 0.001, amsgrad = True),\n",
        "              metrics=['accuracy', FPR])\n",
        "vgg16_ft_model.load_weights('gdrive/My Drive/Data/best_model_vgg16_ft.h5')\n",
        "\n",
        "\n",
        "# VGG-Face Finetuned\n",
        "vgg_face_model_ft = VGG_face()\n",
        "vgg_face_model_ft.add(Dense(2, activation = 'sigmoid'))\n",
        "vgg_face_model_ft.compile(loss= 'binary_crossentropy',\n",
        "              optimizer = optimizers.Adam(lr = 0.001, amsgrad = True),\n",
        "              metrics=['accuracy', FPR])\n",
        "\n",
        "vgg_face_model_ft.load_weights('gdrive/My Drive/Data/best_model_vggface_ft.hdf5')\n"
      ],
      "execution_count": 0,
      "outputs": []
    },
    {
      "cell_type": "code",
      "metadata": {
        "id": "p1cCAnDUavOA",
        "colab_type": "code",
        "colab": {}
      },
      "source": [
        "# Evaluate each model\n",
        "unseen_evals = []\n",
        "unseen_evals.append(own_model.evaluate(Holdout_X, Holdout_y))\n",
        "unseen_evals.append(vgg16_model.evaluate(Holdout_X, Holdout_y))\n",
        "unseen_evals.append(vgg16_ft_model.evaluate(Holdout_X, Holdout_y))\n",
        "unseen_evals.append(vgg_face_model.evaluate(Holdout_X, Holdout_y))\n",
        "unseen_evals.append(vgg_face_model_ft.evaluate(Holdout_X, Holdout_y))\n",
        "unseen_evals"
      ],
      "execution_count": 0,
      "outputs": []
    },
    {
      "cell_type": "code",
      "metadata": {
        "id": "L6PgjKy9-geJ",
        "colab_type": "code",
        "colab": {}
      },
      "source": [
        "own_preds = vgg_face_model_ft.predict_classes(Holdout_X)\n",
        "#own_preds = np.argmax(own_preds,axis = 1)\n",
        "con_own = confusion_matrix(own_preds,Holdout_y[:,1])\n",
        "tn, fp, fn, tp = con_own.ravel()\n",
        "tn, fp, fn, tp"
      ],
      "execution_count": 0,
      "outputs": []
    },
    {
      "cell_type": "code",
      "metadata": {
        "id": "UDC5aYvmkNea",
        "colab_type": "code",
        "colab": {}
      },
      "source": [
        "own_preds = vgg_face_model.predict_classes(Holdout_X)\n",
        "#own_preds = np.argmax(own_preds,axis = 1)\n",
        "con_own = confusion_matrix(own_preds,Holdout_y[:,1])\n",
        "tn, fp, fn, tp = con_own.ravel()\n",
        "tn, fp, fn, tp"
      ],
      "execution_count": 0,
      "outputs": []
    },
    {
      "cell_type": "markdown",
      "metadata": {
        "id": "ejlQyVAta2U4",
        "colab_type": "text"
      },
      "source": [
        "## Unseen data"
      ]
    },
    {
      "cell_type": "code",
      "metadata": {
        "id": "czNcqJV09nxT",
        "colab_type": "code",
        "colab": {}
      },
      "source": [
        "Unseen_X = pickle.load(open('gdrive/My Drive/Data/preprocessed/x_D.txt','rb'))\n",
        "Unseen_y = pickle.load(open('gdrive/My Drive/Data/preprocessed/y_D.txt','rb'))"
      ],
      "execution_count": 0,
      "outputs": []
    },
    {
      "cell_type": "code",
      "metadata": {
        "id": "YGLryfwBA1hf",
        "colab_type": "code",
        "colab": {}
      },
      "source": [
        "own_preds = vgg_face_model_ft.predict_classes(Unseen_X)\n",
        "#own_preds = np.argmax(own_preds,axis = 1)\n",
        "con_own = confusion_matrix(own_preds,Unseen_y[:,1])\n",
        "tn, fp, fn, tp = con_own.ravel()\n",
        "tn, fp, fn, tp"
      ],
      "execution_count": 0,
      "outputs": []
    },
    {
      "cell_type": "code",
      "metadata": {
        "id": "jFE3D5_mA-3X",
        "colab_type": "code",
        "colab": {}
      },
      "source": [
        "own_preds = vgg16_ft_model.predict(Unseen_X)\n",
        "own_preds = np.argmax(own_preds,axis = 1)\n",
        "con_own = confusion_matrix(own_preds,Unseen_y[:,1])\n",
        "tn, fp, fn, tp = con_own.ravel()\n",
        "tn, fp, fn, tp"
      ],
      "execution_count": 0,
      "outputs": []
    },
    {
      "cell_type": "code",
      "metadata": {
        "id": "QYlgj-fxZnUx",
        "colab_type": "code",
        "colab": {}
      },
      "source": [
        "unseen_evals = []\n",
        "unseen_evals.append(own_model.evaluate(Unseen_X, Unseen_y))\n",
        "unseen_evals.append(vgg16_model.evaluate(Unseen_X, Unseen_y))\n",
        "unseen_evals.append(vgg16_ft_model.evaluate(Unseen_X, Unseen_y))\n",
        "unseen_evals.append(vgg_face_model.evaluate(Unseen_X, Unseen_y))\n",
        "unseen_evals.append(vgg_face_model_ft.evaluate(Unseen_X, Unseen_y))\n",
        "unseen_evals"
      ],
      "execution_count": 0,
      "outputs": []
    },
    {
      "cell_type": "code",
      "metadata": {
        "id": "Fxn2kbvnVFsT",
        "colab_type": "code",
        "colab": {}
      },
      "source": [
        ""
      ],
      "execution_count": 0,
      "outputs": []
    },
    {
      "cell_type": "markdown",
      "metadata": {
        "id": "PusL_omQa7P-",
        "colab_type": "text"
      },
      "source": [
        "## Data of those between 15-32"
      ]
    },
    {
      "cell_type": "code",
      "metadata": {
        "id": "Dl1C-wfX1yct",
        "colab_type": "code",
        "colab": {}
      },
      "source": [
        "_15_X = pickle.load(open('gdrive/My Drive/Data/preprocessed/_15_32_D_X.txt','rb'))\n",
        "_15_y = pickle.load(open('gdrive/My Drive/Data/preprocessed/_15_32_D_y.txt','rb'))"
      ],
      "execution_count": 0,
      "outputs": []
    },
    {
      "cell_type": "code",
      "metadata": {
        "id": "vZB_xH8VGyKU",
        "colab_type": "code",
        "colab": {}
      },
      "source": [
        "_15_y = _15_y[:round(len(_15_y)*.99)]"
      ],
      "execution_count": 0,
      "outputs": []
    },
    {
      "cell_type": "code",
      "metadata": {
        "id": "aNm1N-JsDSGl",
        "colab_type": "code",
        "colab": {}
      },
      "source": [
        "vgg16_ft_model.evaluate(_15_X,_15_y)"
      ],
      "execution_count": 0,
      "outputs": []
    },
    {
      "cell_type": "code",
      "metadata": {
        "id": "WaKoDJ-QC-Zu",
        "colab_type": "code",
        "colab": {}
      },
      "source": [
        "own_preds = vgg_face_model.predict_classes(_15_X)\n",
        "#own_preds = np.argmax(own_preds,axis = 1)\n",
        "con_own = confusion_matrix(own_preds,_15_y[:,1])\n",
        "tn, fp, fn, tp = con_own.ravel()\n",
        "tn, fp, fn, tp"
      ],
      "execution_count": 0,
      "outputs": []
    },
    {
      "cell_type": "code",
      "metadata": {
        "id": "r5TUuJ6dDECM",
        "colab_type": "code",
        "colab": {}
      },
      "source": [
        "own_preds = vgg_face_model_ft.predict_classes(_15_X)\n",
        "#own_preds = np.argmax(own_preds,axis = 1)\n",
        "con_own = confusion_matrix(own_preds,_15_y[:,1])\n",
        "tn, fp, fn, tp = con_own.ravel()\n",
        "tn, fp, fn, tp"
      ],
      "execution_count": 0,
      "outputs": []
    },
    {
      "cell_type": "code",
      "metadata": {
        "id": "VHSUCrIDx2RU",
        "colab_type": "code",
        "colab": {}
      },
      "source": [
        "_15_evals = []\n",
        "_15_evals.append(own_model.evaluate(_15_X, _15_y))\n",
        "_15_evals.append(vgg16_model.evaluate(_15_X, _15_y))\n",
        "_15_evals.append(vgg16_ft_model.evaluate(_15_X, _15_y))\n",
        "_15_evals.append(vgg_face_model.evaluate(_15_X, _15_y))\n",
        "_15_evals.append(vgg_face_model_ft.evaluate(_15_X, _15_y))\n",
        "_15_evals"
      ],
      "execution_count": 0,
      "outputs": []
    },
    {
      "cell_type": "code",
      "metadata": {
        "id": "VMW4R2ImHWj6",
        "colab_type": "code",
        "colab": {}
      },
      "source": [
        "vgg_face_model.predict(_15_X)"
      ],
      "execution_count": 0,
      "outputs": []
    },
    {
      "cell_type": "markdown",
      "metadata": {
        "id": "Qn7hlijZbTJ9",
        "colab_type": "text"
      },
      "source": [
        "## Wrong predictions"
      ]
    },
    {
      "cell_type": "code",
      "metadata": {
        "id": "4_-yf9BzosYm",
        "colab_type": "code",
        "colab": {}
      },
      "source": [
        "predictions = vgg_face_model.predict_classes(_15_X)"
      ],
      "execution_count": 0,
      "outputs": []
    },
    {
      "cell_type": "code",
      "metadata": {
        "id": "BRRYnvFoKrl9",
        "colab_type": "code",
        "colab": {}
      },
      "source": [
        "x = 0\n",
        "for i in range(len(predictions)):\n",
        "  if predictions[x] != int(_15_y[x,1]):\n",
        "    print(x)\n",
        "  x += 1"
      ],
      "execution_count": 0,
      "outputs": []
    },
    {
      "cell_type": "code",
      "metadata": {
        "id": "-IPKeAZJLsks",
        "colab_type": "code",
        "colab": {}
      },
      "source": [
        "_15_y[700],predictions[727]"
      ],
      "execution_count": 0,
      "outputs": []
    },
    {
      "cell_type": "code",
      "metadata": {
        "id": "drYpRsKcLJqQ",
        "colab_type": "code",
        "colab": {}
      },
      "source": [
        "plt.imshow(_15_X[727])"
      ],
      "execution_count": 0,
      "outputs": []
    },
    {
      "cell_type": "markdown",
      "metadata": {
        "id": "dFiAg_hco7gX",
        "colab_type": "text"
      },
      "source": [
        "# VGG-Face Layer Output"
      ]
    },
    {
      "cell_type": "code",
      "metadata": {
        "id": "ZSjC6aQgtZ-f",
        "colab_type": "code",
        "colab": {}
      },
      "source": [
        "vgg_face_model = VGG_face()\n",
        "vgg_face_model.add(Dense(2, activation = 'sigmoid'))\n",
        "vgg_face_model.compile(loss= 'binary_crossentropy',\n",
        "              optimizer = optimizers.Adam(lr = 0.001, amsgrad = True),\n",
        "              metrics=['accuracy', FPR])\n",
        "vgg_face_model.load_weights('gdrive/My Drive/Data/best_model_vggface.h5')"
      ],
      "execution_count": 0,
      "outputs": []
    },
    {
      "cell_type": "code",
      "metadata": {
        "id": "rCzd8PpMo7Wg",
        "colab_type": "code",
        "colab": {}
      },
      "source": [
        "vgg_face_outputs = [layer.output for layer in vgg_face_model.layers[:36]]\n",
        "\n",
        "activation_model = models.Model(inputs = vgg_face_model.input,outputs = vgg_face_outputs)"
      ],
      "execution_count": 0,
      "outputs": []
    },
    {
      "cell_type": "code",
      "metadata": {
        "id": "swRyymZRpjaX",
        "colab_type": "code",
        "colab": {}
      },
      "source": [
        "activations = activation_model.predict(_18_X[250:251])"
      ],
      "execution_count": 0,
      "outputs": []
    },
    {
      "cell_type": "code",
      "metadata": {
        "id": "6dayySVIqzj0",
        "colab_type": "code",
        "colab": {}
      },
      "source": [
        "first_layer_activation = activations[0]\n",
        "first_layer_activation.shape"
      ],
      "execution_count": 0,
      "outputs": []
    },
    {
      "cell_type": "code",
      "metadata": {
        "id": "ndcVElwGrhdU",
        "colab_type": "code",
        "colab": {}
      },
      "source": [
        "third_layer_activation = activations[25]"
      ],
      "execution_count": 0,
      "outputs": []
    },
    {
      "cell_type": "code",
      "metadata": {
        "id": "b11ySKZnqDXL",
        "colab_type": "code",
        "colab": {}
      },
      "source": [
        "layer_names = []\n",
        "for layer in vgg_face_model.layers[30:36]:\n",
        "  layer_names.append(layer.name)\n",
        "  \n",
        "images_per_row = 2\n",
        "\n",
        "for layer_name, layer_activation in zip(layer_names,activations):\n",
        "  n_features = layer_activation.shape[-1] # number of features in feature map\n",
        "  size = layer_activation.shape[1]\n",
        "  n_cols = n_features // images_per_row # tiles the activation channels in this matrix\n",
        "  display_grid = np.zeros((size * n_cols, images_per_row * size))\n",
        "  for col in range(n_cols):\n",
        "    for row in range(images_per_row):\n",
        "      channel_image = layer_activation[0,\n",
        "                                      :, :,\n",
        "                                      col * images_per_row + row]\n",
        "      channel_image -= channel_image.mean() # Post-processes the feature to make it visually palatable\n",
        "      channel_image /= channel_image.std()\n",
        "      channel_image *= 64\n",
        "      channel_image += 128\n",
        "      channel_image = np.clip(channel_image, 0, 255).astype('uint8')\n",
        "      display_grid[col * size : (col + 1) * size, # Displays the grid\n",
        "                   row * size : (row + 1) * size] = channel_image\n",
        "    scale = 1. / size\n",
        "    plt.figure(figsize=(scale * display_grid.shape[1],\n",
        "                        scale * display_grid.shape[0]))\n",
        "    plt.title(layer_name)\n",
        "    plt.grid(False)\n",
        "    plt.imshow(display_grid, aspect='auto', cmap='viridis')"
      ],
      "execution_count": 0,
      "outputs": []
    },
    {
      "cell_type": "code",
      "metadata": {
        "id": "zZ1sSkR6x7Mg",
        "colab_type": "code",
        "colab": {}
      },
      "source": [
        "vgg_face_model.summary()"
      ],
      "execution_count": 0,
      "outputs": []
    },
    {
      "cell_type": "markdown",
      "metadata": {
        "id": "9QR6x3q_2zfd",
        "colab_type": "text"
      },
      "source": [
        "# VGG-Face training and testing on 18-32 age group\n"
      ]
    },
    {
      "cell_type": "code",
      "metadata": {
        "id": "5frVBuQBOYff",
        "colab_type": "code",
        "colab": {}
      },
      "source": [
        "_X = pickle.load(open('gdrive/My Drive/Data/preprocessed/_18_32_X_1of2.txt','rb'))\n",
        "_y = pickle.load(open('gdrive/My Drive/Data/preprocessed/_18_32_y_1of2.txt','rb'))"
      ],
      "execution_count": 0,
      "outputs": []
    },
    {
      "cell_type": "code",
      "metadata": {
        "id": "6pLExg5kOnHJ",
        "colab_type": "code",
        "colab": {}
      },
      "source": [
        "_y = _y[:round(len(_y)*.99)]\n",
        "_X.shape,_y.shape"
      ],
      "execution_count": 0,
      "outputs": []
    },
    {
      "cell_type": "code",
      "metadata": {
        "id": "QAi9pERpOyoc",
        "colab_type": "code",
        "colab": {}
      },
      "source": [
        "# Get 250 random validation samples:\n",
        "random_samples = []\n",
        "for i in range(250):\n",
        "  random_samples.append(random.randint(0,3207))"
      ],
      "execution_count": 0,
      "outputs": []
    },
    {
      "cell_type": "code",
      "metadata": {
        "id": "kJb2lp_TPbX_",
        "colab_type": "code",
        "colab": {}
      },
      "source": [
        "val_y = _y[random_samples]\n",
        "val_X = _X[random_samples]"
      ],
      "execution_count": 0,
      "outputs": []
    },
    {
      "cell_type": "code",
      "metadata": {
        "id": "qOqhC-NBR4QZ",
        "colab_type": "code",
        "colab": {}
      },
      "source": [
        "val_X.shape"
      ],
      "execution_count": 0,
      "outputs": []
    },
    {
      "cell_type": "code",
      "metadata": {
        "id": "ocKxghiCP9_T",
        "colab_type": "code",
        "colab": {}
      },
      "source": [
        "train_X = np.delete(_X,random_samples, axis = 0)\n",
        "train_y = np.delete(_y,random_samples, axis = 0)\n",
        "train_X.shape"
      ],
      "execution_count": 0,
      "outputs": []
    },
    {
      "cell_type": "code",
      "metadata": {
        "id": "kpiZ1iOISGeR",
        "colab_type": "code",
        "colab": {}
      },
      "source": [
        "datagen = ImageDataGenerator(rotation_range = 30,\n",
        "                             width_shift_range = 0.1,\n",
        "                             height_shift_range = 0.1,\n",
        "                             horizontal_flip = True,\n",
        "                             shear_range = 0.01,\n",
        "                            )\n",
        "\n",
        "datagen.fit(train_X)"
      ],
      "execution_count": 0,
      "outputs": []
    },
    {
      "cell_type": "code",
      "metadata": {
        "id": "WaZvd2rCSpHI",
        "colab_type": "code",
        "colab": {}
      },
      "source": [
        "vgg_face_"
      ],
      "execution_count": 0,
      "outputs": []
    },
    {
      "cell_type": "code",
      "metadata": {
        "id": "oX-XHHilNKZc",
        "colab_type": "code",
        "colab": {}
      },
      "source": [
        "vgg_face_basic_18 = VGG_face()\n",
        "for layer in vgg_face_basic_18.layers:\n",
        "  layer.trainable = False\n",
        "\n",
        "vgg_face_basic_18.add(Dense(2, activation = 'sigmoid'))\n",
        "vgg_face_basic_18.compile(loss= 'binary_crossentropy',\n",
        "              optimizer = optimizers.Adam(lr = 0.001, amsgrad = True),\n",
        "              metrics=['accuracy', FPR])\n",
        "\n",
        "es_vggface = EarlyStopping(monitor = 'val_loss',mode = 'min',verbose = 1, patience = 5, restore_best_weights = True)\n",
        "mc_vggface = ModelCheckpoint('gdrive/My Drive/Data/best_model_vggface_18.hdf5',monitor='val_loss', mode='min',\n",
        "                             save_best_only=True, save_weights_only = True, verbose = 1)\n",
        "\n",
        "random.seed(0)\n",
        "vgg_face_basic_18_hist = vgg_face_basic_18.fit_generator(datagen.flow(train_X,train_y,batch_size=32,shuffle = True),\n",
        "                       steps_per_epoch = len(train_X) / 32,epochs = 50,\n",
        "                       callbacks = [es_vggface,mc_vggface], validation_data = [val_X,val_y])"
      ],
      "execution_count": 0,
      "outputs": []
    },
    {
      "cell_type": "code",
      "metadata": {
        "id": "w2RiwprygIXQ",
        "colab_type": "code",
        "colab": {}
      },
      "source": [
        "vgg_face_basic_18.evaluate(_18_X,_18_y)"
      ],
      "execution_count": 0,
      "outputs": []
    },
    {
      "cell_type": "code",
      "metadata": {
        "id": "7cI1CyqHgnl_",
        "colab_type": "code",
        "colab": {}
      },
      "source": [
        "sum(_y)"
      ],
      "execution_count": 0,
      "outputs": []
    },
    {
      "cell_type": "markdown",
      "metadata": {
        "id": "J3dDzNjL7KGU",
        "colab_type": "text"
      },
      "source": [
        "# With Hinge loss to reduce FPR"
      ]
    },
    {
      "cell_type": "code",
      "metadata": {
        "id": "FF4s3NXOoEm-",
        "colab_type": "code",
        "colab": {}
      },
      "source": [
        "vgg_face_hinge_ft = VGG_face()\n",
        "for layer in vgg_face_hinge_ft.layers[:-2]:\n",
        "  layer.trainable = False\n",
        "\n",
        "vgg_face_hinge_ft.add(Dense(2, activation = 'sigmoid'))\n",
        "\n",
        "vgg_face_hinge_ft.compile(loss= 'categorical_hinge',\n",
        "              optimizer = optimizers.Adam(lr = 0.001, amsgrad = True),\n",
        "              metrics=['accuracy', FPR])\n",
        "\n",
        "es_vggface = EarlyStopping(monitor = 'val_loss',mode = 'min',verbose = 1, patience = 5, restore_best_weights = True)\n",
        "mc_vggface = ModelCheckpoint('gdrive/My Drive/Data/best_model_vggface_ft_hinge.hdf5',monitor='val_loss', mode='min',\n",
        "                             save_best_only=True, save_weights_only = True, verbose = 1)\n",
        "random.seed(0)\n",
        "history_vgg_face_ft_hinge = vgg_face_hinge_ft.fit_generator(datagen.flow(X,y,batch_size=32,shuffle = True),\n",
        "                       steps_per_epoch = len(X) / 32,epochs = 50,\n",
        "                       callbacks = [es_vggface,mc_vggface], validation_data = [val_X,val_y])"
      ],
      "execution_count": 0,
      "outputs": []
    },
    {
      "cell_type": "code",
      "metadata": {
        "id": "8QfKZUS7uyFc",
        "colab_type": "code",
        "colab": {}
      },
      "source": [
        "evals = vgg_face_hinge_ft.evaluate(Holdout_X, Holdout_y)\n",
        "evals"
      ],
      "execution_count": 0,
      "outputs": []
    },
    {
      "cell_type": "markdown",
      "metadata": {
        "id": "YJ4ZQKH9vjen",
        "colab_type": "text"
      },
      "source": [
        "# Custom loss function which penalizes false positives\n",
        "\n",
        "Does not work yet"
      ]
    },
    {
      "cell_type": "code",
      "metadata": {
        "id": "gOA55oQ9EVnr",
        "colab_type": "code",
        "colab": {}
      },
      "source": [
        "import keras.backend as K\n",
        "def binary_recall_specificity(y_true, y_pred, recall_weight, spec_weight):\n",
        "\n",
        "    TN = np.logical_and(K.eval(y_true) == 0, K.eval(y_pred) == 0)\n",
        "    TP = np.logical_and(K.eval(y_true) == 1, K.eval(y_pred) == 1)\n",
        "\n",
        "    FP = np.logical_and(K.eval(y_true) == 0, K.eval(y_pred) == 1)\n",
        "    FN = np.logical_and(K.eval(y_true) == 1, K.eval(y_pred) == 0)\n",
        "\n",
        "    # Converted as Keras Tensors\n",
        "    TN = K.sum(K.variable(TN))\n",
        "    FP = K.sum(K.variable(FP))\n",
        "\n",
        "    specificity = TN / (TN + FP + K.epsilon())\n",
        "    recall = TP / (TP + FN + K.epsilon())\n",
        "\n",
        "    return(1.0 - (recall_weight*recall + spec_weight*specificity))\n",
        "  \n",
        "# Our custom loss' wrapper\n",
        "def custom_loss(recall_weight, spec_weight):\n",
        "\n",
        "    def recall_spec_loss(y_true, y_pred):\n",
        "        return(binary_recall_specificity(y_true, y_pred, recall_weight, spec_weight))\n",
        "\n",
        "    # Returns the (y_true, y_pred) loss function\n",
        "    return(recall_spec_loss)"
      ],
      "execution_count": 0,
      "outputs": []
    },
    {
      "cell_type": "code",
      "metadata": {
        "id": "Jcbz73TXEtXe",
        "colab_type": "code",
        "colab": {}
      },
      "source": [
        "vgg_face_ft_cl = VGG_face()\n",
        "for layer in vgg_face_ft_cl.layers[:-2]:\n",
        "  layer.trainable = False\n",
        "\n",
        "vgg_face_ft_cl.add(Dense(2, activation = 'sigmoid'))\n",
        "\n",
        "\n",
        "loss = custom_loss(0.25,0.75)\n",
        "\n",
        "vgg_face_ft_cl.compile(loss= loss,\n",
        "              optimizer = optimizers.Adam(lr = 0.001, amsgrad = True),\n",
        "              metrics=['accuracy', FPR])\n",
        "\n",
        "es_vggface = EarlyStopping(monitor = 'val_loss',mode = 'min',verbose = 1, patience = 5, restore_best_weights = True)\n",
        "mc_vggface = ModelCheckpoint('gdrive/My Drive/Data/best_model_vggface_ft_hinge.hdf5',monitor='val_loss', mode='min',\n",
        "                             save_best_only=True, save_weights_only = True, verbose = 1)\n",
        "\n",
        "loss = custom_loss()\n",
        "\n",
        "random.seed(0)\n",
        "hist_vgg_face_ft_cl = vgg_face_hinge_ft.fit_generator(datagen.flow(X,y,batch_size=32,shuffle = True),\n",
        "                       steps_per_epoch = len(X) / 32,epochs = 50,\n",
        "                       callbacks = [es_vggface,mc_vggface], validation_data = [val_x,val_y])\n",
        "\n",
        "# save_path_ft_cl = 'gdrive/My Drive/Data/best_model_vggface_ft_cl.hdf5'\n",
        "# history, vgg_face_ft_cl = compile_and_run(vgg_face_ft_cl, X, y, val_x, val_y, save_path_ft_cl, batch_size = 32, loss = custom_loss(0.25,0.75), \n",
        "#                    optimizer = optimizers.Adam(lr = 0.001, amsgrad = True), epochs = 50)\n",
        "\n"
      ],
      "execution_count": 0,
      "outputs": []
    },
    {
      "cell_type": "code",
      "metadata": {
        "id": "ekElWC2yFLmx",
        "colab_type": "code",
        "colab": {}
      },
      "source": [
        ""
      ],
      "execution_count": 0,
      "outputs": []
    }
  ]
}